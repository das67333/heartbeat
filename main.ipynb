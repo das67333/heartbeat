{
 "cells": [
  {
   "cell_type": "code",
   "execution_count": null,
   "metadata": {},
   "outputs": [],
   "source": [
    "import cv2, time, matplotlib.pyplot as plt\n",
    "\n",
    "cap = cv2.VideoCapture(0)\n",
    "if not (cap.isOpened()):\n",
    "    print('Could not open video device')"
   ]
  },
  {
   "cell_type": "code",
   "execution_count": null,
   "metadata": {},
   "outputs": [],
   "source": [
    "# 480*640, 30 fps\n",
    "points = [[], []]\n",
    "time_start = time.time()\n",
    "timer = 0\n",
    "duration = 3\n",
    "\n",
    "with plt.ion():\n",
    "    while True:\n",
    "        ret, frame = cap.read()\n",
    "        for a in range(-7, 7):\n",
    "            for b in range(-7, 7):\n",
    "                if 20 < a**2 + b**2 < 40:\n",
    "                    frame[240 + a, 320 + b, 0] = 0x7F\n",
    "                    frame[240 + a, 320 + b, 1] = 0x7F\n",
    "                    frame[240 + a, 320 + b, 2] = 0xFF\n",
    "        cv2.imshow('preview', frame)\n",
    "        if cv2.waitKey(1) & 0xFF == ord('q'):\n",
    "            break\n",
    "        points[0].append(timer)\n",
    "        points[1].append(frame[240, 320, 2])\n",
    "        points[0] = [v for v in points[0] if v > points[0][-1] - duration]\n",
    "        points[1] = points[1][len(points[1]) - len(points[0]):]\n",
    "        plt.xlim([points[0][-1] - duration, points[0][-1]])\n",
    "        plt.ylim([min(points[1]) - 5, max(points[1]) + 5])\n",
    "        \n",
    "        plt.plot(points[0], points[1], 'r')\n",
    "        plt.pause(1e-6)\n",
    "        timer = time.time() - time_start\n",
    "\n",
    "cv2.destroyAllWindows()"
   ]
  },
  {
   "cell_type": "code",
   "execution_count": null,
   "metadata": {},
   "outputs": [],
   "source": [
    "cap.release()"
   ]
  }
 ],
 "metadata": {
  "kernelspec": {
   "display_name": "Python 3.9.5 64-bit",
   "name": "python395jvsc74a57bd0fb7be9641b2e94a1e573685d38f63b43717176ee781494131032ada6d2ef050a"
  },
  "language_info": {
   "name": "python",
   "version": ""
  },
  "metadata": {
   "interpreter": {
    "hash": "fb7be9641b2e94a1e573685d38f63b43717176ee781494131032ada6d2ef050a"
   }
  },
  "orig_nbformat": 2
 },
 "nbformat": 4,
 "nbformat_minor": 2
}
