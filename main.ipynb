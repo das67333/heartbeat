{
 "cells": [
  {
   "cell_type": "code",
   "execution_count": null,
   "metadata": {},
   "outputs": [],
   "source": [
    "# Initialization may take more than a minute\r\n",
    "import cv2, time, matplotlib.pyplot as plt\r\n",
    "\r\n",
    "cap = cv2.VideoCapture(0)\r\n",
    "if not (cap.isOpened()):\r\n",
    "    print('Could not open video device')"
   ]
  },
  {
   "cell_type": "code",
   "execution_count": null,
   "metadata": {},
   "outputs": [],
   "source": [
    "%matplotlib\r\n",
    "# 480*640, 30 fps\r\n",
    "points = [[], []]\r\n",
    "time_start = time.time()\r\n",
    "timer = 0\r\n",
    "duration = 3\r\n",
    "\r\n",
    "with plt.ion():\r\n",
    "    while True:\r\n",
    "        ret, frame = cap.read()\r\n",
    "        for a in range(-7, 7):\r\n",
    "            for b in range(-7, 7):\r\n",
    "                if 20 < a**2 + b**2 < 40:\r\n",
    "                    frame[240 + a, 320 + b, 0] = 0x7F\r\n",
    "                    frame[240 + a, 320 + b, 1] = 0x7F\r\n",
    "                    frame[240 + a, 320 + b, 2] = 0xFF\r\n",
    "        cv2.imshow('preview', frame)\r\n",
    "        if cv2.waitKey(1) & 0xFF == ord('q'):\r\n",
    "            break\r\n",
    "        points[0].append(timer)\r\n",
    "        points[1].append(frame[240, 320, 2])\r\n",
    "        points[0] = [v for v in points[0] if v > points[0][-1] - duration]\r\n",
    "        points[1] = points[1][len(points[1]) - len(points[0]):]\r\n",
    "        plt.xlim([points[0][-1] - duration, points[0][-1]])\r\n",
    "        plt.ylim([min(points[1]) - 5, max(points[1]) + 5])\r\n",
    "        \r\n",
    "        plt.plot(points[0], points[1], 'r')\r\n",
    "        plt.pause(1e-6)\r\n",
    "        timer = time.time() - time_start\r\n",
    "\r\n",
    "cv2.destroyAllWindows()"
   ]
  },
  {
   "cell_type": "code",
   "execution_count": null,
   "metadata": {},
   "outputs": [],
   "source": [
    "cap.release()"
   ]
  }
 ],
 "metadata": {
  "kernelspec": {
   "display_name": "Python 3.9.5 64-bit",
   "name": "python395jvsc74a57bd0fb7be9641b2e94a1e573685d38f63b43717176ee781494131032ada6d2ef050a"
  },
  "language_info": {
   "name": "python",
   "version": ""
  },
  "metadata": {
   "interpreter": {
    "hash": "fb7be9641b2e94a1e573685d38f63b43717176ee781494131032ada6d2ef050a"
   }
  },
  "orig_nbformat": 2
 },
 "nbformat": 4,
 "nbformat_minor": 2
}